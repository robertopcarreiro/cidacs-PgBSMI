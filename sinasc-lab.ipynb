{
  "nbformat": 4,
  "nbformat_minor": 0,
  "metadata": {
    "colab": {
      "provenance": [],
      "collapsed_sections": [
        "JffpFUxXhOuw",
        "IaVZnq53sOfL",
        "43zngP9P-Vcn",
        "OYOjJw6IHOmy"
      ],
      "toc_visible": true,
      "include_colab_link": true
    },
    "kernelspec": {
      "name": "python3",
      "display_name": "Python 3"
    },
    "language_info": {
      "name": "python"
    }
  },
  "cells": [
    {
      "cell_type": "markdown",
      "metadata": {
        "id": "view-in-github",
        "colab_type": "text"
      },
      "source": [
        "<a href=\"https://colab.research.google.com/github/robertopcarreiro/cidacs-PgBSMI/blob/master/sinasc-lab.ipynb\" target=\"_parent\"><img src=\"https://colab.research.google.com/assets/colab-badge.svg\" alt=\"Open In Colab\"/></a>"
      ]
    },
    {
      "cell_type": "markdown",
      "source": [
        "# PARTE I - SOBRE OS DADOS"
      ],
      "metadata": {
        "id": "JffpFUxXhOuw"
      }
    },
    {
      "cell_type": "markdown",
      "source": [
        "Os dados que serão utilizados para esse laboratório são os dados do Sistema de Informação sobre Nascidos Vivos – Sinasc. O Sistema de Informações sobre Nascidos Vivos (Sinasc), foi implantado oficialmente a partir de 1990, com o objetivo de coletar dados sobre os nascimentos informados em todo território nacional e fornecer dados sobre natalidade para todos os níveis do Sistema de Saúde. A implantação do Sinasc ocorreu de forma gradual em todas as unidades da Federação e já vem apresentando em muitos municípios, desde o ano de 1994, um número maior de registros do que o publicado pelo IBGE com base nos dados de Cartório de Registro Civil."
      ],
      "metadata": {
        "id": "XIJ5RTeUheo6"
      }
    },
    {
      "cell_type": "markdown",
      "source": [
        "As informações sobre as variáveis encontram-se no arquivo PDF, cujo link segue abaixo:\n",
        "\n",
        "[https://diaad.s3.sa-east-1.amazonaws.com/sinasc/SINASC+-+Estrutura.pdf](https://diaad.s3.sa-east-1.amazonaws.com/sinasc/SINASC+-+Estrutura.pdf)\n"
      ],
      "metadata": {
        "id": "s5XcvkVYh7bL"
      }
    },
    {
      "cell_type": "markdown",
      "source": [
        "Na versão atual, o dicionário é composto por 69 variáveis. Dentre estas variáveis, encontram-se dados definidos pelos especialistas para permitir gerar informações essenciais sobre as condições de nascimentos no Brasil. Por exemplo, temos:\n",
        "\n",
        "![img-1.png](data:image/png;base64,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)\n",
        "\n",
        "---\n",
        "\n",
        "*   63 -> Posição\n",
        "*   ESCMAEAGR1 -> Nome do Campo\n",
        "*   C -> Tipo da Variável\n",
        "\n",
        "*   10 -> Tamanho da Variável\n",
        "\n",
        "*   Escolaridade 2010 agregada. Valores: 00 – Sem Escolaridade; 01 – Fundamental I Incompleto; 02 – Fundamental I Completo; 03 – Fundamental II Incompleto; 04 – Fundamental II Completo; 05 – Ensino Médio Incompleto; 06 – Ensino Médio Completo; 07 – Superior Incompleto; 08 – Superior Completo; 09 – Ignorado; 10 – Fundamental I Incompleto ou Inespecífico; 11 – Fundamental II Incompleto ou Inespecífico; 12 – Ensino Médio Incompleto ou Inespecífico. -> Descrição\n",
        "\n",
        "*   2013 -> Ano Inicial\n",
        "\n",
        "*   C -> Tipo Inicial\n",
        "\n",
        "*   10 -> Tamanho Inicial\n",
        "\n",
        "---\n",
        "Observação: acessar o arquivo PDF com o dicionário para entender as variáveis que estão disponíveis.\n"
      ],
      "metadata": {
        "id": "lP1Lm3fWmueQ"
      }
    },
    {
      "cell_type": "markdown",
      "source": [
        "Os dados foram obitidos no Open Datasus: https://opendatasus.saude.gov.br/dataset/sistema-de-informacao-sobre-nascidos-vivos-sinasc-1996-a-2020"
      ],
      "metadata": {
        "id": "p-zyfp1RpEAA"
      }
    },
    {
      "cell_type": "markdown",
      "source": [
        "Os arquivos foram disponibilizados na pasta dados (/content).\n",
        "\n",
        "Os arquivos correspondem aos anos de 2020 (922 MB), 2019 (963 MB) e 2018 (996 GB). Assim, temos:\n",
        "\n",
        "*   SINASC_2018.csv\n",
        "*   SINASC_2019.csv\n",
        "*   SINASC_2020.csv\n",
        "\n",
        "Os arquivos do tipo CSV - Comma Separated Values são muito utilizados na Ciência de Dados."
      ],
      "metadata": {
        "id": "KabJEEeJp0An"
      }
    },
    {
      "cell_type": "markdown",
      "source": [
        "# PARTE 2 - COMO LER OS DADOS"
      ],
      "metadata": {
        "id": "IaVZnq53sOfL"
      }
    },
    {
      "cell_type": "markdown",
      "source": [
        "Utilizaremos a linguagem de programação Python para realizar essa atividade prática. Acessem este [link](https://www.cienciaedados.com/por-que-cientistas-de-dados-escolhem-python/) para saber mais sobre Python e seu uso na Ciencia de Dados."
      ],
      "metadata": {
        "id": "HtaKnesAptOe"
      }
    },
    {
      "cell_type": "markdown",
      "source": [
        "Importamos algumas biblioteca que existem para manipular arquivos do tipo CSV."
      ],
      "metadata": {
        "id": "fJAf0nqJxE4U"
      }
    },
    {
      "cell_type": "code",
      "source": [
        "import pandas as pd\n",
        "import csv"
      ],
      "metadata": {
        "id": "E68T449ZxVJN"
      },
      "execution_count": null,
      "outputs": []
    },
    {
      "cell_type": "markdown",
      "source": [
        "Executamos o comando de leitura do arquivo\n"
      ],
      "metadata": {
        "id": "U5BKU2KTxacM"
      }
    },
    {
      "cell_type": "code",
      "source": [
        "sinasc_pdf_2020 = pd.read_csv('/content/SINASC_2020.csv',\n",
        "                              header=0,\n",
        "                              sep=';',\n",
        "                              quotechar='\"')"
      ],
      "metadata": {
        "id": "InO1O20Exq_9",
        "colab": {
          "base_uri": "https://localhost:8080/",
          "height": 399
        },
        "outputId": "7ef09a91-c6e4-4b9e-9050-4db111fb8b6c"
      },
      "execution_count": null,
      "outputs": [
        {
          "output_type": "error",
          "ename": "FileNotFoundError",
          "evalue": "ignored",
          "traceback": [
            "\u001b[0;31m---------------------------------------------------------------------------\u001b[0m",
            "\u001b[0;31mFileNotFoundError\u001b[0m                         Traceback (most recent call last)",
            "\u001b[0;32m<ipython-input-2-5516c1da093f>\u001b[0m in \u001b[0;36m<cell line: 1>\u001b[0;34m()\u001b[0m\n\u001b[0;32m----> 1\u001b[0;31m sinasc_pdf_2020 = pd.read_csv('/content/SINASC_2020.csv', \n\u001b[0m\u001b[1;32m      2\u001b[0m                               \u001b[0mheader\u001b[0m\u001b[0;34m=\u001b[0m\u001b[0;36m0\u001b[0m\u001b[0;34m,\u001b[0m\u001b[0;34m\u001b[0m\u001b[0;34m\u001b[0m\u001b[0m\n\u001b[1;32m      3\u001b[0m                               \u001b[0msep\u001b[0m\u001b[0;34m=\u001b[0m\u001b[0;34m';'\u001b[0m\u001b[0;34m,\u001b[0m\u001b[0;34m\u001b[0m\u001b[0;34m\u001b[0m\u001b[0m\n\u001b[1;32m      4\u001b[0m                               quotechar='\"')\n",
            "\u001b[0;32m/usr/local/lib/python3.10/dist-packages/pandas/util/_decorators.py\u001b[0m in \u001b[0;36mwrapper\u001b[0;34m(*args, **kwargs)\u001b[0m\n\u001b[1;32m    209\u001b[0m                 \u001b[0;32melse\u001b[0m\u001b[0;34m:\u001b[0m\u001b[0;34m\u001b[0m\u001b[0;34m\u001b[0m\u001b[0m\n\u001b[1;32m    210\u001b[0m                     \u001b[0mkwargs\u001b[0m\u001b[0;34m[\u001b[0m\u001b[0mnew_arg_name\u001b[0m\u001b[0;34m]\u001b[0m \u001b[0;34m=\u001b[0m \u001b[0mnew_arg_value\u001b[0m\u001b[0;34m\u001b[0m\u001b[0;34m\u001b[0m\u001b[0m\n\u001b[0;32m--> 211\u001b[0;31m             \u001b[0;32mreturn\u001b[0m \u001b[0mfunc\u001b[0m\u001b[0;34m(\u001b[0m\u001b[0;34m*\u001b[0m\u001b[0margs\u001b[0m\u001b[0;34m,\u001b[0m \u001b[0;34m**\u001b[0m\u001b[0mkwargs\u001b[0m\u001b[0;34m)\u001b[0m\u001b[0;34m\u001b[0m\u001b[0;34m\u001b[0m\u001b[0m\n\u001b[0m\u001b[1;32m    212\u001b[0m \u001b[0;34m\u001b[0m\u001b[0m\n\u001b[1;32m    213\u001b[0m         \u001b[0;32mreturn\u001b[0m \u001b[0mcast\u001b[0m\u001b[0;34m(\u001b[0m\u001b[0mF\u001b[0m\u001b[0;34m,\u001b[0m \u001b[0mwrapper\u001b[0m\u001b[0;34m)\u001b[0m\u001b[0;34m\u001b[0m\u001b[0;34m\u001b[0m\u001b[0m\n",
            "\u001b[0;32m/usr/local/lib/python3.10/dist-packages/pandas/util/_decorators.py\u001b[0m in \u001b[0;36mwrapper\u001b[0;34m(*args, **kwargs)\u001b[0m\n\u001b[1;32m    329\u001b[0m                     \u001b[0mstacklevel\u001b[0m\u001b[0;34m=\u001b[0m\u001b[0mfind_stack_level\u001b[0m\u001b[0;34m(\u001b[0m\u001b[0;34m)\u001b[0m\u001b[0;34m,\u001b[0m\u001b[0;34m\u001b[0m\u001b[0;34m\u001b[0m\u001b[0m\n\u001b[1;32m    330\u001b[0m                 )\n\u001b[0;32m--> 331\u001b[0;31m             \u001b[0;32mreturn\u001b[0m \u001b[0mfunc\u001b[0m\u001b[0;34m(\u001b[0m\u001b[0;34m*\u001b[0m\u001b[0margs\u001b[0m\u001b[0;34m,\u001b[0m \u001b[0;34m**\u001b[0m\u001b[0mkwargs\u001b[0m\u001b[0;34m)\u001b[0m\u001b[0;34m\u001b[0m\u001b[0;34m\u001b[0m\u001b[0m\n\u001b[0m\u001b[1;32m    332\u001b[0m \u001b[0;34m\u001b[0m\u001b[0m\n\u001b[1;32m    333\u001b[0m         \u001b[0;31m# error: \"Callable[[VarArg(Any), KwArg(Any)], Any]\" has no\u001b[0m\u001b[0;34m\u001b[0m\u001b[0;34m\u001b[0m\u001b[0m\n",
            "\u001b[0;32m/usr/local/lib/python3.10/dist-packages/pandas/io/parsers/readers.py\u001b[0m in \u001b[0;36mread_csv\u001b[0;34m(filepath_or_buffer, sep, delimiter, header, names, index_col, usecols, squeeze, prefix, mangle_dupe_cols, dtype, engine, converters, true_values, false_values, skipinitialspace, skiprows, skipfooter, nrows, na_values, keep_default_na, na_filter, verbose, skip_blank_lines, parse_dates, infer_datetime_format, keep_date_col, date_parser, dayfirst, cache_dates, iterator, chunksize, compression, thousands, decimal, lineterminator, quotechar, quoting, doublequote, escapechar, comment, encoding, encoding_errors, dialect, error_bad_lines, warn_bad_lines, on_bad_lines, delim_whitespace, low_memory, memory_map, float_precision, storage_options)\u001b[0m\n\u001b[1;32m    948\u001b[0m     \u001b[0mkwds\u001b[0m\u001b[0;34m.\u001b[0m\u001b[0mupdate\u001b[0m\u001b[0;34m(\u001b[0m\u001b[0mkwds_defaults\u001b[0m\u001b[0;34m)\u001b[0m\u001b[0;34m\u001b[0m\u001b[0;34m\u001b[0m\u001b[0m\n\u001b[1;32m    949\u001b[0m \u001b[0;34m\u001b[0m\u001b[0m\n\u001b[0;32m--> 950\u001b[0;31m     \u001b[0;32mreturn\u001b[0m \u001b[0m_read\u001b[0m\u001b[0;34m(\u001b[0m\u001b[0mfilepath_or_buffer\u001b[0m\u001b[0;34m,\u001b[0m \u001b[0mkwds\u001b[0m\u001b[0;34m)\u001b[0m\u001b[0;34m\u001b[0m\u001b[0;34m\u001b[0m\u001b[0m\n\u001b[0m\u001b[1;32m    951\u001b[0m \u001b[0;34m\u001b[0m\u001b[0m\n\u001b[1;32m    952\u001b[0m \u001b[0;34m\u001b[0m\u001b[0m\n",
            "\u001b[0;32m/usr/local/lib/python3.10/dist-packages/pandas/io/parsers/readers.py\u001b[0m in \u001b[0;36m_read\u001b[0;34m(filepath_or_buffer, kwds)\u001b[0m\n\u001b[1;32m    603\u001b[0m \u001b[0;34m\u001b[0m\u001b[0m\n\u001b[1;32m    604\u001b[0m     \u001b[0;31m# Create the parser.\u001b[0m\u001b[0;34m\u001b[0m\u001b[0;34m\u001b[0m\u001b[0m\n\u001b[0;32m--> 605\u001b[0;31m     \u001b[0mparser\u001b[0m \u001b[0;34m=\u001b[0m \u001b[0mTextFileReader\u001b[0m\u001b[0;34m(\u001b[0m\u001b[0mfilepath_or_buffer\u001b[0m\u001b[0;34m,\u001b[0m \u001b[0;34m**\u001b[0m\u001b[0mkwds\u001b[0m\u001b[0;34m)\u001b[0m\u001b[0;34m\u001b[0m\u001b[0;34m\u001b[0m\u001b[0m\n\u001b[0m\u001b[1;32m    606\u001b[0m \u001b[0;34m\u001b[0m\u001b[0m\n\u001b[1;32m    607\u001b[0m     \u001b[0;32mif\u001b[0m \u001b[0mchunksize\u001b[0m \u001b[0;32mor\u001b[0m \u001b[0miterator\u001b[0m\u001b[0;34m:\u001b[0m\u001b[0;34m\u001b[0m\u001b[0;34m\u001b[0m\u001b[0m\n",
            "\u001b[0;32m/usr/local/lib/python3.10/dist-packages/pandas/io/parsers/readers.py\u001b[0m in \u001b[0;36m__init__\u001b[0;34m(self, f, engine, **kwds)\u001b[0m\n\u001b[1;32m   1440\u001b[0m \u001b[0;34m\u001b[0m\u001b[0m\n\u001b[1;32m   1441\u001b[0m         \u001b[0mself\u001b[0m\u001b[0;34m.\u001b[0m\u001b[0mhandles\u001b[0m\u001b[0;34m:\u001b[0m \u001b[0mIOHandles\u001b[0m \u001b[0;34m|\u001b[0m \u001b[0;32mNone\u001b[0m \u001b[0;34m=\u001b[0m \u001b[0;32mNone\u001b[0m\u001b[0;34m\u001b[0m\u001b[0;34m\u001b[0m\u001b[0m\n\u001b[0;32m-> 1442\u001b[0;31m         \u001b[0mself\u001b[0m\u001b[0;34m.\u001b[0m\u001b[0m_engine\u001b[0m \u001b[0;34m=\u001b[0m \u001b[0mself\u001b[0m\u001b[0;34m.\u001b[0m\u001b[0m_make_engine\u001b[0m\u001b[0;34m(\u001b[0m\u001b[0mf\u001b[0m\u001b[0;34m,\u001b[0m \u001b[0mself\u001b[0m\u001b[0;34m.\u001b[0m\u001b[0mengine\u001b[0m\u001b[0;34m)\u001b[0m\u001b[0;34m\u001b[0m\u001b[0;34m\u001b[0m\u001b[0m\n\u001b[0m\u001b[1;32m   1443\u001b[0m \u001b[0;34m\u001b[0m\u001b[0m\n\u001b[1;32m   1444\u001b[0m     \u001b[0;32mdef\u001b[0m \u001b[0mclose\u001b[0m\u001b[0;34m(\u001b[0m\u001b[0mself\u001b[0m\u001b[0;34m)\u001b[0m \u001b[0;34m->\u001b[0m \u001b[0;32mNone\u001b[0m\u001b[0;34m:\u001b[0m\u001b[0;34m\u001b[0m\u001b[0;34m\u001b[0m\u001b[0m\n",
            "\u001b[0;32m/usr/local/lib/python3.10/dist-packages/pandas/io/parsers/readers.py\u001b[0m in \u001b[0;36m_make_engine\u001b[0;34m(self, f, engine)\u001b[0m\n\u001b[1;32m   1733\u001b[0m                 \u001b[0;32mif\u001b[0m \u001b[0;34m\"b\"\u001b[0m \u001b[0;32mnot\u001b[0m \u001b[0;32min\u001b[0m \u001b[0mmode\u001b[0m\u001b[0;34m:\u001b[0m\u001b[0;34m\u001b[0m\u001b[0;34m\u001b[0m\u001b[0m\n\u001b[1;32m   1734\u001b[0m                     \u001b[0mmode\u001b[0m \u001b[0;34m+=\u001b[0m \u001b[0;34m\"b\"\u001b[0m\u001b[0;34m\u001b[0m\u001b[0;34m\u001b[0m\u001b[0m\n\u001b[0;32m-> 1735\u001b[0;31m             self.handles = get_handle(\n\u001b[0m\u001b[1;32m   1736\u001b[0m                 \u001b[0mf\u001b[0m\u001b[0;34m,\u001b[0m\u001b[0;34m\u001b[0m\u001b[0;34m\u001b[0m\u001b[0m\n\u001b[1;32m   1737\u001b[0m                 \u001b[0mmode\u001b[0m\u001b[0;34m,\u001b[0m\u001b[0;34m\u001b[0m\u001b[0;34m\u001b[0m\u001b[0m\n",
            "\u001b[0;32m/usr/local/lib/python3.10/dist-packages/pandas/io/common.py\u001b[0m in \u001b[0;36mget_handle\u001b[0;34m(path_or_buf, mode, encoding, compression, memory_map, is_text, errors, storage_options)\u001b[0m\n\u001b[1;32m    854\u001b[0m         \u001b[0;32mif\u001b[0m \u001b[0mioargs\u001b[0m\u001b[0;34m.\u001b[0m\u001b[0mencoding\u001b[0m \u001b[0;32mand\u001b[0m \u001b[0;34m\"b\"\u001b[0m \u001b[0;32mnot\u001b[0m \u001b[0;32min\u001b[0m \u001b[0mioargs\u001b[0m\u001b[0;34m.\u001b[0m\u001b[0mmode\u001b[0m\u001b[0;34m:\u001b[0m\u001b[0;34m\u001b[0m\u001b[0;34m\u001b[0m\u001b[0m\n\u001b[1;32m    855\u001b[0m             \u001b[0;31m# Encoding\u001b[0m\u001b[0;34m\u001b[0m\u001b[0;34m\u001b[0m\u001b[0m\n\u001b[0;32m--> 856\u001b[0;31m             handle = open(\n\u001b[0m\u001b[1;32m    857\u001b[0m                 \u001b[0mhandle\u001b[0m\u001b[0;34m,\u001b[0m\u001b[0;34m\u001b[0m\u001b[0;34m\u001b[0m\u001b[0m\n\u001b[1;32m    858\u001b[0m                 \u001b[0mioargs\u001b[0m\u001b[0;34m.\u001b[0m\u001b[0mmode\u001b[0m\u001b[0;34m,\u001b[0m\u001b[0;34m\u001b[0m\u001b[0;34m\u001b[0m\u001b[0m\n",
            "\u001b[0;31mFileNotFoundError\u001b[0m: [Errno 2] No such file or directory: '/content/SINASC_2020.csv'"
          ]
        }
      ]
    },
    {
      "cell_type": "markdown",
      "source": [
        "Agora vamos visualizar os 5 primeiros registros e os 5 úlyimos para validar que o arquivo foi lido corretamente."
      ],
      "metadata": {
        "id": "u864FuIh8isa"
      }
    },
    {
      "cell_type": "code",
      "source": [
        "#pd.set_option('display.max_columns', 100)\n",
        "sinasc_pdf_2020.head(-5)"
      ],
      "metadata": {
        "colab": {
          "base_uri": "https://localhost:8080/",
          "height": 197
        },
        "id": "-YB6XjRtxLWl",
        "outputId": "2a7d0966-2ca2-4992-8074-059683032851"
      },
      "execution_count": null,
      "outputs": [
        {
          "output_type": "error",
          "ename": "NameError",
          "evalue": "ignored",
          "traceback": [
            "\u001b[0;31m---------------------------------------------------------------------------\u001b[0m",
            "\u001b[0;31mNameError\u001b[0m                                 Traceback (most recent call last)",
            "\u001b[0;32m<ipython-input-3-729ab03b137b>\u001b[0m in \u001b[0;36m<cell line: 2>\u001b[0;34m()\u001b[0m\n\u001b[1;32m      1\u001b[0m \u001b[0;31m#pd.set_option('display.max_columns', 100)\u001b[0m\u001b[0;34m\u001b[0m\u001b[0;34m\u001b[0m\u001b[0m\n\u001b[0;32m----> 2\u001b[0;31m \u001b[0msinasc_pdf_2020\u001b[0m\u001b[0;34m.\u001b[0m\u001b[0mhead\u001b[0m\u001b[0;34m(\u001b[0m\u001b[0;34m-\u001b[0m\u001b[0;36m5\u001b[0m\u001b[0;34m)\u001b[0m\u001b[0;34m\u001b[0m\u001b[0;34m\u001b[0m\u001b[0m\n\u001b[0m",
            "\u001b[0;31mNameError\u001b[0m: name 'sinasc_pdf_2020' is not defined"
          ]
        }
      ]
    },
    {
      "cell_type": "markdown",
      "source": [
        "# PARTE 3 - COMO DESCREVER OS DADOS"
      ],
      "metadata": {
        "id": "43zngP9P-Vcn"
      }
    },
    {
      "cell_type": "markdown",
      "source": [
        "Outra validação interessante para verificar se o arquivo foi lido corretamente é gerar informações sobre as variáveis encontradas e o numero de registros."
      ],
      "metadata": {
        "id": "KzgEb1LA-uzn"
      }
    },
    {
      "cell_type": "code",
      "source": [
        "sinasc_pdf_2020.info()"
      ],
      "metadata": {
        "colab": {
          "base_uri": "https://localhost:8080/",
          "height": 236
        },
        "id": "9S1o9lbJCTal",
        "outputId": "0edcb5fd-1c9d-447c-e304-40776925a40e"
      },
      "execution_count": null,
      "outputs": [
        {
          "output_type": "error",
          "ename": "NameError",
          "evalue": "ignored",
          "traceback": [
            "\u001b[0;31m---------------------------------------------------------------------------\u001b[0m",
            "\u001b[0;31mNameError\u001b[0m                                 Traceback (most recent call last)",
            "\u001b[0;32m<ipython-input-1-7f6a5668f1d7>\u001b[0m in \u001b[0;36m<module>\u001b[0;34m\u001b[0m\n\u001b[0;32m----> 1\u001b[0;31m \u001b[0msinasc_pdf_2020\u001b[0m\u001b[0;34m.\u001b[0m\u001b[0minfo\u001b[0m\u001b[0;34m(\u001b[0m\u001b[0;34m)\u001b[0m\u001b[0;34m\u001b[0m\u001b[0;34m\u001b[0m\u001b[0m\n\u001b[0m",
            "\u001b[0;31mNameError\u001b[0m: name 'sinasc_pdf_2020' is not defined"
          ]
        }
      ]
    },
    {
      "cell_type": "markdown",
      "source": [
        "Descrever um pouco mais as variáveis."
      ],
      "metadata": {
        "id": "vXQySeQ1xguH"
      }
    },
    {
      "cell_type": "code",
      "source": [
        "sinasc_pdf_2020.describe()"
      ],
      "metadata": {
        "id": "irxymI0mxmo0"
      },
      "execution_count": null,
      "outputs": []
    },
    {
      "cell_type": "code",
      "source": [
        "pd.set_option('display.max_rows', 100)\n",
        "sinasc_pdf_2020.nunique()"
      ],
      "metadata": {
        "id": "bf7Ls5vbEiPn"
      },
      "execution_count": null,
      "outputs": []
    },
    {
      "cell_type": "markdown",
      "source": [
        "# PARTE 4 - COMO VISUALIZAR OS DADOS"
      ],
      "metadata": {
        "id": "OYOjJw6IHOmy"
      }
    },
    {
      "cell_type": "markdown",
      "source": [
        "Importar as bibliotecas utilizadas para visualização.\n"
      ],
      "metadata": {
        "id": "5QgQ4Z7wHZRP"
      }
    },
    {
      "cell_type": "code",
      "source": [
        "import seaborn as sns\n",
        "import matplotlib.pyplot as plt"
      ],
      "metadata": {
        "id": "ugbFtQPrHV6b"
      },
      "execution_count": null,
      "outputs": []
    },
    {
      "cell_type": "markdown",
      "source": [
        "Histograma utilizando o número de anos da escolaridade da mãe."
      ],
      "metadata": {
        "id": "e_ph7SUeJep0"
      }
    },
    {
      "cell_type": "code",
      "source": [
        "y = sinasc_pdf_2020['ESCMAE']\n",
        "ax = sns.countplot(y,label=\"Count\")"
      ],
      "metadata": {
        "colab": {
          "base_uri": "https://localhost:8080/",
          "height": 334
        },
        "id": "UrqIl-c1Hesf",
        "outputId": "cd019983-b029-4b9f-9908-6cf5c4e7e7c9"
      },
      "execution_count": null,
      "outputs": [
        {
          "output_type": "stream",
          "name": "stderr",
          "text": [
            "/usr/local/lib/python3.7/dist-packages/seaborn/_decorators.py:43: FutureWarning: Pass the following variable as a keyword arg: x. From version 0.12, the only valid positional argument will be `data`, and passing other arguments without an explicit keyword will result in an error or misinterpretation.\n",
            "  FutureWarning\n"
          ]
        },
        {
          "output_type": "display_data",
          "data": {
            "text/plain": [
              "<Figure size 432x288 with 1 Axes>"
            ],
            "image/png": "[encoded data removed]"
          },
          "metadata": {
            "needs_background": "light"
          }
        }
      ]
    },
    {
      "cell_type": "code",
      "source": [
        "y = sinasc_pdf_2020['GESTACAO']\n",
        "ax = sns.countplot(y,label=\"Count\")"
      ],
      "metadata": {
        "colab": {
          "base_uri": "https://localhost:8080/",
          "height": 334
        },
        "id": "xm-8e5niH9vk",
        "outputId": "9a29eabe-ce30-4e57-b477-db5833bd84f5"
      },
      "execution_count": null,
      "outputs": [
        {
          "output_type": "stream",
          "name": "stderr",
          "text": [
            "/usr/local/lib/python3.7/dist-packages/seaborn/_decorators.py:43: FutureWarning: Pass the following variable as a keyword arg: x. From version 0.12, the only valid positional argument will be `data`, and passing other arguments without an explicit keyword will result in an error or misinterpretation.\n",
            "  FutureWarning\n"
          ]
        },
        {
          "output_type": "display_data",
          "data": {
            "text/plain": [
              "<Figure size 432x288 with 1 Axes>"
            ],
            "image/png": "[encoded data removed]"
          },
          "metadata": {
            "needs_background": "light"
          }
        }
      ]
    },
    {
      "cell_type": "code",
      "source": [
        "parto_vaginal = sinasc_pdf_2020[sinasc_pdf_2020['PARTO']==1]['PARTO'].count()\n",
        "parto_cesario= sinasc_pdf_2020[sinasc_pdf_2020['PARTO']==2]['PARTO'].count()\n",
        "parto_ignorado= sinasc_pdf_2020[sinasc_pdf_2020['PARTO']==9]['PARTO'].count()\n",
        "\n",
        "sns.set_theme(palette=\"dark\", font=\"arial\", font_scale= 1.5)\n",
        "data = [parto_vaginal, parto_cesario, parto_ignorado]\n",
        "parto = ['Vaginal', 'Cesário', 'Ignorado']\n",
        "plt.pie(data, labels=parto, colors = sns.color_palette('Paired')[0:4], autopct='%.0f%%')\n",
        "plt.show()"
      ],
      "metadata": {
        "colab": {
          "base_uri": "https://localhost:8080/",
          "height": 283
        },
        "id": "UVL_ZUphIO61",
        "outputId": "498287c7-5f89-4ac3-c301-8cb3a069101a"
      },
      "execution_count": null,
      "outputs": [
        {
          "output_type": "stream",
          "name": "stderr",
          "text": [
            "WARNING:matplotlib.font_manager:findfont: Font family ['arial'] not found. Falling back to DejaVu Sans.\n",
            "WARNING:matplotlib.font_manager:findfont: Font family ['arial'] not found. Falling back to DejaVu Sans.\n"
          ]
        },
        {
          "output_type": "display_data",
          "data": {
            "text/plain": [
              "<Figure size 432x288 with 1 Axes>"
            ],
            "image/png": "[encoded data removed]"
          },
          "metadata": {}
        }
      ]
    },
    {
      "cell_type": "code",
      "source": [
        "sns.distplot(sinasc_pdf_2020['PESO'], kde=False);\n",
        "plt.axvline(0, color=\"k\", linestyle=\"--\");"
      ],
      "metadata": {
        "colab": {
          "base_uri": "https://localhost:8080/",
          "height": 353
        },
        "id": "t_4P7OZzQ1-0",
        "outputId": "50a30472-6ac7-4ef0-bf76-9d18eda86b14"
      },
      "execution_count": null,
      "outputs": [
        {
          "output_type": "stream",
          "name": "stderr",
          "text": [
            "/usr/local/lib/python3.7/dist-packages/seaborn/distributions.py:2619: FutureWarning: `distplot` is a deprecated function and will be removed in a future version. Please adapt your code to use either `displot` (a figure-level function with similar flexibility) or `histplot` (an axes-level function for histograms).\n",
            "  warnings.warn(msg, FutureWarning)\n"
          ]
        },
        {
          "output_type": "display_data",
          "data": {
            "text/plain": [
              "<Figure size 432x288 with 1 Axes>"
            ],
            "image/png": "[encoded data removed]"
          },
          "metadata": {}
        }
      ]
    },
    {
      "cell_type": "markdown",
      "source": [
        "# PARTE 5 - SELECIONANDO VARIÁVEIS"
      ],
      "metadata": {
        "id": "2Da9-EO_Ht8X"
      }
    },
    {
      "cell_type": "code",
      "source": [
        "sinasc_pdf_2020[['PESO','SEXO','RACACOR']]"
      ],
      "metadata": {
        "colab": {
          "base_uri": "https://localhost:8080/",
          "height": 424
        },
        "id": "RcRhxk65H5b9",
        "outputId": "b3c3b4e3-b083-4aa7-c673-192b328b9a1d"
      },
      "execution_count": null,
      "outputs": [
        {
          "output_type": "execute_result",
          "data": {
            "text/plain": [
              "         PESO  SEXO  RACACOR\n",
              "0      3650.0   2.0      1.0\n",
              "1      1400.0   2.0      4.0\n",
              "2      3455.0   1.0      4.0\n",
              "3      3620.0   1.0      4.0\n",
              "4      2400.0   2.0      4.0\n",
              "...       ...   ...      ...\n",
              "46251  3005.0   2.0      4.0\n",
              "46252  3020.0   2.0      4.0\n",
              "46253  1970.0   2.0      4.0\n",
              "46254  3270.0   1.0      4.0\n",
              "46255     NaN   NaN      NaN\n",
              "\n",
              "[46256 rows x 3 columns]"
            ],
            "text/html": [
              "\n",
              "  <div id=\"df-d5fb4486-4945-449d-804e-05f3fc2d5519\">\n",
              "    <div class=\"colab-df-container\">\n",
              "      <div>\n",
              "<style scoped>\n",
              "    .dataframe tbody tr th:only-of-type {\n",
              "        vertical-align: middle;\n",
              "    }\n",
              "\n",
              "    .dataframe tbody tr th {\n",
              "        vertical-align: top;\n",
              "    }\n",
              "\n",
              "    .dataframe thead th {\n",
              "        text-align: right;\n",
              "    }\n",
              "</style>\n",
              "<table border=\"1\" class=\"dataframe\">\n",
              "  <thead>\n",
              "    <tr style=\"text-align: right;\">\n",
              "      <th></th>\n",
              "      <th>PESO</th>\n",
              "      <th>SEXO</th>\n",
              "      <th>RACACOR</th>\n",
              "    </tr>\n",
              "  </thead>\n",
              "  <tbody>\n",
              "    <tr>\n",
              "      <th>0</th>\n",
              "      <td>3650.0</td>\n",
              "      <td>2.0</td>\n",
              "      <td>1.0</td>\n",
              "    </tr>\n",
              "    <tr>\n",
              "      <th>1</th>\n",
              "      <td>1400.0</td>\n",
              "      <td>2.0</td>\n",
              "      <td>4.0</td>\n",
              "    </tr>\n",
              "    <tr>\n",
              "      <th>2</th>\n",
              "      <td>3455.0</td>\n",
              "      <td>1.0</td>\n",
              "      <td>4.0</td>\n",
              "    </tr>\n",
              "    <tr>\n",
              "      <th>3</th>\n",
              "      <td>3620.0</td>\n",
              "      <td>1.0</td>\n",
              "      <td>4.0</td>\n",
              "    </tr>\n",
              "    <tr>\n",
              "      <th>4</th>\n",
              "      <td>2400.0</td>\n",
              "      <td>2.0</td>\n",
              "      <td>4.0</td>\n",
              "    </tr>\n",
              "    <tr>\n",
              "      <th>...</th>\n",
              "      <td>...</td>\n",
              "      <td>...</td>\n",
              "      <td>...</td>\n",
              "    </tr>\n",
              "    <tr>\n",
              "      <th>46251</th>\n",
              "      <td>3005.0</td>\n",
              "      <td>2.0</td>\n",
              "      <td>4.0</td>\n",
              "    </tr>\n",
              "    <tr>\n",
              "      <th>46252</th>\n",
              "      <td>3020.0</td>\n",
              "      <td>2.0</td>\n",
              "      <td>4.0</td>\n",
              "    </tr>\n",
              "    <tr>\n",
              "      <th>46253</th>\n",
              "      <td>1970.0</td>\n",
              "      <td>2.0</td>\n",
              "      <td>4.0</td>\n",
              "    </tr>\n",
              "    <tr>\n",
              "      <th>46254</th>\n",
              "      <td>3270.0</td>\n",
              "      <td>1.0</td>\n",
              "      <td>4.0</td>\n",
              "    </tr>\n",
              "    <tr>\n",
              "      <th>46255</th>\n",
              "      <td>NaN</td>\n",
              "      <td>NaN</td>\n",
              "      <td>NaN</td>\n",
              "    </tr>\n",
              "  </tbody>\n",
              "</table>\n",
              "<p>46256 rows × 3 columns</p>\n",
              "</div>\n",
              "      <button class=\"colab-df-convert\" onclick=\"convertToInteractive('df-d5fb4486-4945-449d-804e-05f3fc2d5519')\"\n",
              "              title=\"Convert this dataframe to an interactive table.\"\n",
              "              style=\"display:none;\">\n",
              "        \n",
              "  <svg xmlns=\"http://www.w3.org/2000/svg\" height=\"24px\"viewBox=\"0 0 24 24\"\n",
              "       width=\"24px\">\n",
              "    <path d=\"M0 0h24v24H0V0z\" fill=\"none\"/>\n",
              "    <path d=\"M18.56 5.44l.94 2.06.94-2.06 2.06-.94-2.06-.94-.94-2.06-.94 2.06-2.06.94zm-11 1L8.5 8.5l.94-2.06 2.06-.94-2.06-.94L8.5 2.5l-.94 2.06-2.06.94zm10 10l.94 2.06.94-2.06 2.06-.94-2.06-.94-.94-2.06-.94 2.06-2.06.94z\"/><path d=\"M17.41 7.96l-1.37-1.37c-.4-.4-.92-.59-1.43-.59-.52 0-1.04.2-1.43.59L10.3 9.45l-7.72 7.72c-.78.78-.78 2.05 0 2.83L4 21.41c.39.39.9.59 1.41.59.51 0 1.02-.2 1.41-.59l7.78-7.78 2.81-2.81c.8-.78.8-2.07 0-2.86zM5.41 20L4 18.59l7.72-7.72 1.47 1.35L5.41 20z\"/>\n",
              "  </svg>\n",
              "      </button>\n",
              "      \n",
              "  <style>\n",
              "    .colab-df-container {\n",
              "      display:flex;\n",
              "      flex-wrap:wrap;\n",
              "      gap: 12px;\n",
              "    }\n",
              "\n",
              "    .colab-df-convert {\n",
              "      background-color: #E8F0FE;\n",
              "      border: none;\n",
              "      border-radius: 50%;\n",
              "      cursor: pointer;\n",
              "      display: none;\n",
              "      fill: #1967D2;\n",
              "      height: 32px;\n",
              "      padding: 0 0 0 0;\n",
              "      width: 32px;\n",
              "    }\n",
              "\n",
              "    .colab-df-convert:hover {\n",
              "      background-color: #E2EBFA;\n",
              "      box-shadow: 0px 1px 2px rgba(60, 64, 67, 0.3), 0px 1px 3px 1px rgba(60, 64, 67, 0.15);\n",
              "      fill: #174EA6;\n",
              "    }\n",
              "\n",
              "    [theme=dark] .colab-df-convert {\n",
              "      background-color: #3B4455;\n",
              "      fill: #D2E3FC;\n",
              "    }\n",
              "\n",
              "    [theme=dark] .colab-df-convert:hover {\n",
              "      background-color: #434B5C;\n",
              "      box-shadow: 0px 1px 3px 1px rgba(0, 0, 0, 0.15);\n",
              "      filter: drop-shadow(0px 1px 2px rgba(0, 0, 0, 0.3));\n",
              "      fill: #FFFFFF;\n",
              "    }\n",
              "  </style>\n",
              "\n",
              "      <script>\n",
              "        const buttonEl =\n",
              "          document.querySelector('#df-d5fb4486-4945-449d-804e-05f3fc2d5519 button.colab-df-convert');\n",
              "        buttonEl.style.display =\n",
              "          google.colab.kernel.accessAllowed ? 'block' : 'none';\n",
              "\n",
              "        async function convertToInteractive(key) {\n",
              "          const element = document.querySelector('#df-d5fb4486-4945-449d-804e-05f3fc2d5519');\n",
              "          const dataTable =\n",
              "            await google.colab.kernel.invokeFunction('convertToInteractive',\n",
              "                                                     [key], {});\n",
              "          if (!dataTable) return;\n",
              "\n",
              "          const docLinkHtml = 'Like what you see? Visit the ' +\n",
              "            '<a target=\"_blank\" href=https://colab.research.google.com/notebooks/data_table.ipynb>data table notebook</a>'\n",
              "            + ' to learn more about interactive tables.';\n",
              "          element.innerHTML = '';\n",
              "          dataTable['output_type'] = 'display_data';\n",
              "          await google.colab.output.renderOutput(dataTable, element);\n",
              "          const docLink = document.createElement('div');\n",
              "          docLink.innerHTML = docLinkHtml;\n",
              "          element.appendChild(docLink);\n",
              "        }\n",
              "      </script>\n",
              "    </div>\n",
              "  </div>\n",
              "  "
            ]
          },
          "metadata": {},
          "execution_count": 14
        }
      ]
    },
    {
      "cell_type": "code",
      "source": [],
      "metadata": {
        "id": "uteywqxrIGQZ"
      },
      "execution_count": null,
      "outputs": []
    }
  ]
}